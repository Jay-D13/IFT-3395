{
 "cells": [
  {
   "cell_type": "markdown",
   "metadata": {},
   "source": [
    "## I. Import des bibliothèques"
   ]
  },
  {
   "cell_type": "code",
   "execution_count": 1,
   "metadata": {},
   "outputs": [],
   "source": [
    "import numpy as np\n",
    "import pandas as pd\n",
    "import matplotlib.pyplot as plt\n",
    "%matplotlib inline\n",
    "\n",
    "np.random.seed(1024)\n",
    "np.set_printoptions(precision=2) "
   ]
  },
  {
   "cell_type": "markdown",
   "metadata": {},
   "source": [
    "## II. Lecture des données"
   ]
  },
  {
   "cell_type": "code",
   "execution_count": 2,
   "metadata": {},
   "outputs": [],
   "source": [
    "df_train = pd.read_csv(\"train.csv\")\n",
    "df_test = pd.read_csv(\"test.csv\")\n",
    "df_train_result = pd.read_csv(\"train_result.csv\")"
   ]
  },
  {
   "cell_type": "markdown",
   "metadata": {},
   "source": [
    "On observe nos données. Nous remarquons que la dernière colonnes n'est pas défini et que les valeurs de nos colonnes ne sont pas normalisées. (Idem pour `df_test`)"
   ]
  },
  {
   "cell_type": "code",
   "execution_count": 98,
   "metadata": {},
   "outputs": [
    {
     "data": {
      "text/html": [
       "<div>\n",
       "<style scoped>\n",
       "    .dataframe tbody tr th:only-of-type {\n",
       "        vertical-align: middle;\n",
       "    }\n",
       "\n",
       "    .dataframe tbody tr th {\n",
       "        vertical-align: top;\n",
       "    }\n",
       "\n",
       "    .dataframe thead th {\n",
       "        text-align: right;\n",
       "    }\n",
       "</style>\n",
       "<table border=\"1\" class=\"dataframe\">\n",
       "  <thead>\n",
       "    <tr style=\"text-align: right;\">\n",
       "      <th></th>\n",
       "      <th>Feature 1</th>\n",
       "      <th>Feature 2</th>\n",
       "      <th>Feature 3</th>\n",
       "      <th>Feature 4</th>\n",
       "      <th>Feature 5</th>\n",
       "      <th>Feature 6</th>\n",
       "      <th>Feature 7</th>\n",
       "      <th>Feature 8</th>\n",
       "      <th>Feature 9</th>\n",
       "      <th>Feature 10</th>\n",
       "      <th>...</th>\n",
       "      <th>Feature 1560</th>\n",
       "      <th>Feature 1561</th>\n",
       "      <th>Feature 1562</th>\n",
       "      <th>Feature 1563</th>\n",
       "      <th>Feature 1564</th>\n",
       "      <th>Feature 1565</th>\n",
       "      <th>Feature 1566</th>\n",
       "      <th>Feature 1567</th>\n",
       "      <th>Feature 1568</th>\n",
       "      <th>Unnamed: 1568</th>\n",
       "    </tr>\n",
       "  </thead>\n",
       "  <tbody>\n",
       "    <tr>\n",
       "      <th>0</th>\n",
       "      <td>0.0</td>\n",
       "      <td>0.0</td>\n",
       "      <td>0.0</td>\n",
       "      <td>0.0</td>\n",
       "      <td>0.0</td>\n",
       "      <td>0.0</td>\n",
       "      <td>0.0</td>\n",
       "      <td>0.0</td>\n",
       "      <td>0.0</td>\n",
       "      <td>0.0</td>\n",
       "      <td>...</td>\n",
       "      <td>3.854928e-19</td>\n",
       "      <td>-1.329011e-20</td>\n",
       "      <td>4.204335e-21</td>\n",
       "      <td>4.428740e-21</td>\n",
       "      <td>4.461340e-23</td>\n",
       "      <td>2.376798e-24</td>\n",
       "      <td>-7.807106e-24</td>\n",
       "      <td>2.379322e-24</td>\n",
       "      <td>-5.582096e-26</td>\n",
       "      <td>NaN</td>\n",
       "    </tr>\n",
       "    <tr>\n",
       "      <th>1</th>\n",
       "      <td>0.0</td>\n",
       "      <td>0.0</td>\n",
       "      <td>0.0</td>\n",
       "      <td>0.0</td>\n",
       "      <td>0.0</td>\n",
       "      <td>0.0</td>\n",
       "      <td>0.0</td>\n",
       "      <td>0.0</td>\n",
       "      <td>0.0</td>\n",
       "      <td>0.0</td>\n",
       "      <td>...</td>\n",
       "      <td>-7.118652e-20</td>\n",
       "      <td>4.062297e-21</td>\n",
       "      <td>-7.743107e-21</td>\n",
       "      <td>8.638654e-22</td>\n",
       "      <td>-1.006311e-21</td>\n",
       "      <td>-2.267525e-22</td>\n",
       "      <td>-5.867730e-23</td>\n",
       "      <td>4.858047e-24</td>\n",
       "      <td>-4.595498e-25</td>\n",
       "      <td>NaN</td>\n",
       "    </tr>\n",
       "    <tr>\n",
       "      <th>2</th>\n",
       "      <td>0.0</td>\n",
       "      <td>0.0</td>\n",
       "      <td>0.0</td>\n",
       "      <td>0.0</td>\n",
       "      <td>0.0</td>\n",
       "      <td>0.0</td>\n",
       "      <td>0.0</td>\n",
       "      <td>0.0</td>\n",
       "      <td>0.0</td>\n",
       "      <td>0.0</td>\n",
       "      <td>...</td>\n",
       "      <td>-4.619224e-20</td>\n",
       "      <td>-3.590984e-20</td>\n",
       "      <td>-2.717642e-20</td>\n",
       "      <td>1.923565e-20</td>\n",
       "      <td>-2.244442e-21</td>\n",
       "      <td>-4.244237e-24</td>\n",
       "      <td>-3.599564e-23</td>\n",
       "      <td>7.471194e-24</td>\n",
       "      <td>-3.815300e-24</td>\n",
       "      <td>NaN</td>\n",
       "    </tr>\n",
       "    <tr>\n",
       "      <th>3</th>\n",
       "      <td>0.0</td>\n",
       "      <td>0.0</td>\n",
       "      <td>0.0</td>\n",
       "      <td>0.0</td>\n",
       "      <td>0.0</td>\n",
       "      <td>0.0</td>\n",
       "      <td>0.0</td>\n",
       "      <td>0.0</td>\n",
       "      <td>0.0</td>\n",
       "      <td>0.0</td>\n",
       "      <td>...</td>\n",
       "      <td>-5.346105e-19</td>\n",
       "      <td>-6.278001e-19</td>\n",
       "      <td>-5.786255e-19</td>\n",
       "      <td>2.573141e-19</td>\n",
       "      <td>2.385063e-19</td>\n",
       "      <td>6.655487e-20</td>\n",
       "      <td>2.834975e-20</td>\n",
       "      <td>3.356577e-21</td>\n",
       "      <td>1.698628e-21</td>\n",
       "      <td>NaN</td>\n",
       "    </tr>\n",
       "    <tr>\n",
       "      <th>4</th>\n",
       "      <td>0.0</td>\n",
       "      <td>0.0</td>\n",
       "      <td>0.0</td>\n",
       "      <td>0.0</td>\n",
       "      <td>0.0</td>\n",
       "      <td>0.0</td>\n",
       "      <td>0.0</td>\n",
       "      <td>0.0</td>\n",
       "      <td>0.0</td>\n",
       "      <td>0.0</td>\n",
       "      <td>...</td>\n",
       "      <td>5.494150e-20</td>\n",
       "      <td>-1.187973e-20</td>\n",
       "      <td>-1.450941e-21</td>\n",
       "      <td>8.954877e-22</td>\n",
       "      <td>-2.645088e-22</td>\n",
       "      <td>1.365356e-23</td>\n",
       "      <td>8.062470e-24</td>\n",
       "      <td>-1.235689e-24</td>\n",
       "      <td>1.890073e-25</td>\n",
       "      <td>NaN</td>\n",
       "    </tr>\n",
       "    <tr>\n",
       "      <th>...</th>\n",
       "      <td>...</td>\n",
       "      <td>...</td>\n",
       "      <td>...</td>\n",
       "      <td>...</td>\n",
       "      <td>...</td>\n",
       "      <td>...</td>\n",
       "      <td>...</td>\n",
       "      <td>...</td>\n",
       "      <td>...</td>\n",
       "      <td>...</td>\n",
       "      <td>...</td>\n",
       "      <td>...</td>\n",
       "      <td>...</td>\n",
       "      <td>...</td>\n",
       "      <td>...</td>\n",
       "      <td>...</td>\n",
       "      <td>...</td>\n",
       "      <td>...</td>\n",
       "      <td>...</td>\n",
       "      <td>...</td>\n",
       "      <td>...</td>\n",
       "    </tr>\n",
       "    <tr>\n",
       "      <th>49995</th>\n",
       "      <td>0.0</td>\n",
       "      <td>0.0</td>\n",
       "      <td>0.0</td>\n",
       "      <td>0.0</td>\n",
       "      <td>0.0</td>\n",
       "      <td>0.0</td>\n",
       "      <td>0.0</td>\n",
       "      <td>0.0</td>\n",
       "      <td>0.0</td>\n",
       "      <td>0.0</td>\n",
       "      <td>...</td>\n",
       "      <td>-9.956413e-22</td>\n",
       "      <td>7.012638e-21</td>\n",
       "      <td>-1.749799e-21</td>\n",
       "      <td>-5.296019e-22</td>\n",
       "      <td>5.324962e-23</td>\n",
       "      <td>-7.651382e-24</td>\n",
       "      <td>-1.189074e-23</td>\n",
       "      <td>-3.929069e-24</td>\n",
       "      <td>1.550829e-24</td>\n",
       "      <td>NaN</td>\n",
       "    </tr>\n",
       "    <tr>\n",
       "      <th>49996</th>\n",
       "      <td>0.0</td>\n",
       "      <td>0.0</td>\n",
       "      <td>0.0</td>\n",
       "      <td>0.0</td>\n",
       "      <td>0.0</td>\n",
       "      <td>0.0</td>\n",
       "      <td>0.0</td>\n",
       "      <td>0.0</td>\n",
       "      <td>0.0</td>\n",
       "      <td>0.0</td>\n",
       "      <td>...</td>\n",
       "      <td>-2.386547e-22</td>\n",
       "      <td>3.369363e-23</td>\n",
       "      <td>1.459011e-23</td>\n",
       "      <td>5.123315e-25</td>\n",
       "      <td>-5.553792e-25</td>\n",
       "      <td>-1.656932e-25</td>\n",
       "      <td>-4.579053e-26</td>\n",
       "      <td>5.280697e-26</td>\n",
       "      <td>1.550841e-26</td>\n",
       "      <td>NaN</td>\n",
       "    </tr>\n",
       "    <tr>\n",
       "      <th>49997</th>\n",
       "      <td>0.0</td>\n",
       "      <td>0.0</td>\n",
       "      <td>0.0</td>\n",
       "      <td>0.0</td>\n",
       "      <td>0.0</td>\n",
       "      <td>0.0</td>\n",
       "      <td>0.0</td>\n",
       "      <td>0.0</td>\n",
       "      <td>0.0</td>\n",
       "      <td>0.0</td>\n",
       "      <td>...</td>\n",
       "      <td>-1.566546e-20</td>\n",
       "      <td>6.858092e-21</td>\n",
       "      <td>1.256228e-21</td>\n",
       "      <td>-3.157088e-22</td>\n",
       "      <td>1.984213e-23</td>\n",
       "      <td>1.134711e-23</td>\n",
       "      <td>-3.192012e-24</td>\n",
       "      <td>1.801697e-25</td>\n",
       "      <td>-1.020857e-26</td>\n",
       "      <td>NaN</td>\n",
       "    </tr>\n",
       "    <tr>\n",
       "      <th>49998</th>\n",
       "      <td>0.0</td>\n",
       "      <td>0.0</td>\n",
       "      <td>0.0</td>\n",
       "      <td>0.0</td>\n",
       "      <td>0.0</td>\n",
       "      <td>0.0</td>\n",
       "      <td>0.0</td>\n",
       "      <td>0.0</td>\n",
       "      <td>0.0</td>\n",
       "      <td>0.0</td>\n",
       "      <td>...</td>\n",
       "      <td>-1.839305e-21</td>\n",
       "      <td>3.174579e-20</td>\n",
       "      <td>7.510705e-21</td>\n",
       "      <td>-1.584091e-21</td>\n",
       "      <td>9.770302e-23</td>\n",
       "      <td>1.247588e-22</td>\n",
       "      <td>5.449431e-24</td>\n",
       "      <td>2.336028e-24</td>\n",
       "      <td>2.577251e-24</td>\n",
       "      <td>NaN</td>\n",
       "    </tr>\n",
       "    <tr>\n",
       "      <th>49999</th>\n",
       "      <td>0.0</td>\n",
       "      <td>0.0</td>\n",
       "      <td>0.0</td>\n",
       "      <td>0.0</td>\n",
       "      <td>0.0</td>\n",
       "      <td>0.0</td>\n",
       "      <td>0.0</td>\n",
       "      <td>0.0</td>\n",
       "      <td>0.0</td>\n",
       "      <td>0.0</td>\n",
       "      <td>...</td>\n",
       "      <td>9.899082e-17</td>\n",
       "      <td>8.549260e-17</td>\n",
       "      <td>1.099950e-18</td>\n",
       "      <td>-8.754949e-19</td>\n",
       "      <td>1.678472e-20</td>\n",
       "      <td>-1.834816e-20</td>\n",
       "      <td>-1.115471e-20</td>\n",
       "      <td>-4.795634e-21</td>\n",
       "      <td>-1.559397e-22</td>\n",
       "      <td>NaN</td>\n",
       "    </tr>\n",
       "  </tbody>\n",
       "</table>\n",
       "<p>50000 rows × 1569 columns</p>\n",
       "</div>"
      ],
      "text/plain": [
       "       Feature 1  Feature 2  Feature 3  Feature 4  Feature 5  Feature 6  \\\n",
       "0            0.0        0.0        0.0        0.0        0.0        0.0   \n",
       "1            0.0        0.0        0.0        0.0        0.0        0.0   \n",
       "2            0.0        0.0        0.0        0.0        0.0        0.0   \n",
       "3            0.0        0.0        0.0        0.0        0.0        0.0   \n",
       "4            0.0        0.0        0.0        0.0        0.0        0.0   \n",
       "...          ...        ...        ...        ...        ...        ...   \n",
       "49995        0.0        0.0        0.0        0.0        0.0        0.0   \n",
       "49996        0.0        0.0        0.0        0.0        0.0        0.0   \n",
       "49997        0.0        0.0        0.0        0.0        0.0        0.0   \n",
       "49998        0.0        0.0        0.0        0.0        0.0        0.0   \n",
       "49999        0.0        0.0        0.0        0.0        0.0        0.0   \n",
       "\n",
       "       Feature 7  Feature 8  Feature 9  Feature 10  ...  Feature 1560  \\\n",
       "0            0.0        0.0        0.0         0.0  ...  3.854928e-19   \n",
       "1            0.0        0.0        0.0         0.0  ... -7.118652e-20   \n",
       "2            0.0        0.0        0.0         0.0  ... -4.619224e-20   \n",
       "3            0.0        0.0        0.0         0.0  ... -5.346105e-19   \n",
       "4            0.0        0.0        0.0         0.0  ...  5.494150e-20   \n",
       "...          ...        ...        ...         ...  ...           ...   \n",
       "49995        0.0        0.0        0.0         0.0  ... -9.956413e-22   \n",
       "49996        0.0        0.0        0.0         0.0  ... -2.386547e-22   \n",
       "49997        0.0        0.0        0.0         0.0  ... -1.566546e-20   \n",
       "49998        0.0        0.0        0.0         0.0  ... -1.839305e-21   \n",
       "49999        0.0        0.0        0.0         0.0  ...  9.899082e-17   \n",
       "\n",
       "       Feature 1561  Feature 1562  Feature 1563  Feature 1564  Feature 1565  \\\n",
       "0     -1.329011e-20  4.204335e-21  4.428740e-21  4.461340e-23  2.376798e-24   \n",
       "1      4.062297e-21 -7.743107e-21  8.638654e-22 -1.006311e-21 -2.267525e-22   \n",
       "2     -3.590984e-20 -2.717642e-20  1.923565e-20 -2.244442e-21 -4.244237e-24   \n",
       "3     -6.278001e-19 -5.786255e-19  2.573141e-19  2.385063e-19  6.655487e-20   \n",
       "4     -1.187973e-20 -1.450941e-21  8.954877e-22 -2.645088e-22  1.365356e-23   \n",
       "...             ...           ...           ...           ...           ...   \n",
       "49995  7.012638e-21 -1.749799e-21 -5.296019e-22  5.324962e-23 -7.651382e-24   \n",
       "49996  3.369363e-23  1.459011e-23  5.123315e-25 -5.553792e-25 -1.656932e-25   \n",
       "49997  6.858092e-21  1.256228e-21 -3.157088e-22  1.984213e-23  1.134711e-23   \n",
       "49998  3.174579e-20  7.510705e-21 -1.584091e-21  9.770302e-23  1.247588e-22   \n",
       "49999  8.549260e-17  1.099950e-18 -8.754949e-19  1.678472e-20 -1.834816e-20   \n",
       "\n",
       "       Feature 1566  Feature 1567  Feature 1568  Unnamed: 1568  \n",
       "0     -7.807106e-24  2.379322e-24 -5.582096e-26            NaN  \n",
       "1     -5.867730e-23  4.858047e-24 -4.595498e-25            NaN  \n",
       "2     -3.599564e-23  7.471194e-24 -3.815300e-24            NaN  \n",
       "3      2.834975e-20  3.356577e-21  1.698628e-21            NaN  \n",
       "4      8.062470e-24 -1.235689e-24  1.890073e-25            NaN  \n",
       "...             ...           ...           ...            ...  \n",
       "49995 -1.189074e-23 -3.929069e-24  1.550829e-24            NaN  \n",
       "49996 -4.579053e-26  5.280697e-26  1.550841e-26            NaN  \n",
       "49997 -3.192012e-24  1.801697e-25 -1.020857e-26            NaN  \n",
       "49998  5.449431e-24  2.336028e-24  2.577251e-24            NaN  \n",
       "49999 -1.115471e-20 -4.795634e-21 -1.559397e-22            NaN  \n",
       "\n",
       "[50000 rows x 1569 columns]"
      ]
     },
     "execution_count": 98,
     "metadata": {},
     "output_type": "execute_result"
    }
   ],
   "source": [
    "df_train"
   ]
  },
  {
   "cell_type": "markdown",
   "metadata": {},
   "source": [
    "On coupe donc les dernières colonnes."
   ]
  },
  {
   "cell_type": "code",
   "execution_count": 3,
   "metadata": {},
   "outputs": [],
   "source": [
    "X_train = df_train.to_numpy()[:,:-1]\n",
    "X_test = df_test.to_numpy()[:,:-1]\n",
    "y_train = df_train_result[\"Class\"].to_numpy()"
   ]
  },
  {
   "cell_type": "markdown",
   "metadata": {},
   "source": [
    "### Observation des données"
   ]
  },
  {
   "cell_type": "code",
   "execution_count": 100,
   "metadata": {},
   "outputs": [],
   "source": [
    "image_size_px = (28,56)\n",
    "\n",
    "def mnist_random_example():\n",
    "    idx = np.random.randint(50000)\n",
    "    exp = X_train[idx].reshape(image_size_px[0],image_size_px[1])\n",
    "    print(\"The number in the image below is:\", y_train[idx])\n",
    "    plt.imshow(exp)"
   ]
  },
  {
   "cell_type": "code",
   "execution_count": 101,
   "metadata": {},
   "outputs": [
    {
     "name": "stdout",
     "output_type": "stream",
     "text": [
      "The number in the image below is: 12\n"
     ]
    },
    {
     "data": {
      "image/png": "[encoded data removed]",
      "text/plain": [
       "<Figure size 640x480 with 1 Axes>"
      ]
     },
     "metadata": {},
     "output_type": "display_data"
    }
   ],
   "source": [
    "mnist_random_example()"
   ]
  },
  {
   "cell_type": "markdown",
   "metadata": {},
   "source": [
    "### Variables utilitaires"
   ]
  },
  {
   "cell_type": "code",
   "execution_count": 15,
   "metadata": {},
   "outputs": [],
   "source": [
    "n_classes = np.unique(y_train).shape[0] #19\n",
    "d = X_train.shape[1]"
   ]
  },
  {
   "cell_type": "markdown",
   "metadata": {},
   "source": [
    "## III. Normalisation et standarisation des données"
   ]
  },
  {
   "cell_type": "markdown",
   "metadata": {},
   "source": [
    "### Data standarisation"
   ]
  },
  {
   "cell_type": "code",
   "execution_count": 5,
   "metadata": {},
   "outputs": [],
   "source": [
    "def standarize(data):\n",
    "    mu = np.mean(data, axis=1, keepdims=True)\n",
    "    sigma = np.std(data, axis=1, keepdims=True)\n",
    "    normalized = (data - mu)/sigma\n",
    "    return normalized"
   ]
  },
  {
   "cell_type": "code",
   "execution_count": 6,
   "metadata": {},
   "outputs": [],
   "source": [
    "X_train = standarize(X_train)\n",
    "X_test = standarize(X_test)"
   ]
  },
  {
   "cell_type": "code",
   "execution_count": 7,
   "metadata": {},
   "outputs": [
    {
     "data": {
      "text/plain": [
       "array([[-0.44, -0.44, -0.44, ..., -0.44, -0.44, -0.44],\n",
       "       [-0.41, -0.41, -0.41, ..., -0.41, -0.41, -0.41],\n",
       "       [-0.45, -0.45, -0.45, ..., -0.45, -0.45, -0.45],\n",
       "       ...,\n",
       "       [-0.4 , -0.4 , -0.4 , ..., -0.4 , -0.4 , -0.4 ],\n",
       "       [-0.42, -0.42, -0.42, ..., -0.42, -0.42, -0.42],\n",
       "       [-0.44, -0.44, -0.44, ..., -0.44, -0.44, -0.44]])"
      ]
     },
     "execution_count": 7,
     "metadata": {},
     "output_type": "execute_result"
    }
   ],
   "source": [
    "X_train"
   ]
  },
  {
   "cell_type": "markdown",
   "metadata": {},
   "source": [
    "### Data normalisation"
   ]
  },
  {
   "cell_type": "markdown",
   "metadata": {},
   "source": [
    "## IV. Régression logistique"
   ]
  },
  {
   "cell_type": "code",
   "execution_count": 74,
   "metadata": {},
   "outputs": [],
   "source": [
    "class LogisticRegression:\n",
    "\n",
    "    def __init__(self, W, b):\n",
    "        self.W = W\n",
    "        self.b = b\n",
    "    \n",
    "    def g_x(self, X):\n",
    "        \"\"\"\n",
    "        Notre fonction g(x)\n",
    "        \"\"\"\n",
    "        return np.matmul(X, self.W) + self.b\n",
    "    \n",
    "    def softmax(self,z):\n",
    "        '''\n",
    "        Calcule du softmax\n",
    "        '''\n",
    "        return (np.exp(z).T / np.sum(np.exp(z),axis=1)).T \n",
    "    \n",
    "    def predict_proba(self, X):\n",
    "        \"\"\"\n",
    "        Application de softmax sur notre fonction\n",
    "        \"\"\"\n",
    "        return self.softmax(self.g_x(X))\n",
    "    \n",
    "    def predict(self, X):\n",
    "        \"\"\"\n",
    "        Argument maximum de notre softmax\n",
    "        \"\"\"\n",
    "        return np.argmax(self.predict_proba(X), axis=1)\n",
    "    \n",
    "    def onehot(self, y):\n",
    "        '''\n",
    "        Encodage one hot pour nos données Y\n",
    "        '''\n",
    "        oh = np.zeros((len(y), y.max() + 1))\n",
    "        oh[np.arange(len(y)), y] = 1\n",
    "        return oh\n",
    "    \n",
    "    def gradient(self, X, y):\n",
    "        \"\"\"\n",
    "        Calcule la dérivée du poid et du biais pour notre gradiant\n",
    "        \"\"\"\n",
    "        Y_onehot = self.onehot(y)\n",
    "        proba = self.predict_proba(X)\n",
    "        dW = np.dot(X.T,(proba-Y_onehot))/X.shape[0]\n",
    "        dB = np.sum(proba-Y_onehot,axis=0)/X.shape[0]\n",
    "        return dW,dB\n",
    "    \n",
    "    def cost(self, X, y):\n",
    "        \"\"\"\n",
    "        Calcule notre coût d'entropie croisée + régularisation\n",
    "        \"\"\"\n",
    "        Y_onehot = self.onehot(y)\n",
    "        y_head = self.predict_proba(X)\n",
    "        entropie = -Y_onehot * np.log(y_head) - (1-Y_onehot)*np.log(1-y_head)\n",
    "        return (1/d)*((np.mean(entropie)) + 0.5*self.reg * np.sum(self.W**2))\n",
    "  \n",
    "\n",
    "    def test(self, X, y): \n",
    "        \"\"\"\n",
    "        Calcule notre taux d'erreur\n",
    "        \"\"\"\n",
    "        y_hat = self.predict(X)\n",
    "        Y_onehot = self.onehot(y)\n",
    "        error_rate = np.count_nonzero(y_hat - Y_onehot.argmax(axis=1)) / y_hat.shape[0]\n",
    "        return error_rate\n",
    "    \n",
    "    def train(self, X, y,step_size, n_steps):\n",
    "        \"\"\"\n",
    "        Pour un nombre d'étape de n_steps donné, on effectue\n",
    "        une gradient descent sur les poids W du modèle.\n",
    "        À chaque itération, on enregistre les pertes et le taux\n",
    "        d'erreur, que l'on retourne suite à la dernière itération.\n",
    "        \"\"\"  \n",
    "        self.reg = step_size\n",
    "        cost = [] \n",
    "        errors = []\n",
    "        \n",
    "        for _ in range(n_steps):\n",
    "            dW,dB = self.gradient(X,y)\n",
    "            self.W -= step_size*dW \n",
    "            self.b -= step_size*dB \n",
    "            cost.append(self.cost(X, y))\n",
    "            errors.append(self.test(X, y))\n",
    "        return cost, errors"
   ]
  },
  {
   "cell_type": "markdown",
   "metadata": {},
   "source": [
    "## V. Trouver le meilleur hyperparamètre"
   ]
  },
  {
   "cell_type": "markdown",
   "metadata": {},
   "source": [
    "Fonction pour diviser nos données d'entrainement. On a 60000 inputs totales (train+test = 50000 + 10000), notre test est donc 1/6ème de notre totalité, on veut l'équivalent pour notre set de validation. Donc notre set de validation doit être de 10000"
   ]
  },
  {
   "cell_type": "code",
   "execution_count": 10,
   "metadata": {},
   "outputs": [],
   "source": [
    "train_set, validation_set = X_train[:40000],X_train[40000:]\n",
    "train_y, validation_y = y_train[:40000],y_train[40000:]"
   ]
  },
  {
   "cell_type": "markdown",
   "metadata": {},
   "source": [
    "Après `np.arange(0.01,0.1,0.01)`, la fonction nous retourne 0.08 comme étant le meilleur paramètre.\n",
    "On essaye donc sur `np.arange(0.07,0.09,0.0025)` et l'optimal devient 0.0825."
   ]
  },
  {
   "cell_type": "code",
   "execution_count": 75,
   "metadata": {},
   "outputs": [],
   "source": [
    "step_sizes = [0.0825]#np.arange(0.0825,0.085,0.0025)#np.arange(0.01,0.1,0.01)\n",
    "accuracies = np.zeros(len(step_sizes))"
   ]
  },
  {
   "cell_type": "markdown",
   "metadata": {},
   "source": [
    "On entraîne (avec un petit nombre de pas) nos paramètres que l'on test sur notre ensemble d'entrainement, puis on compare leurs précision sur notre ensemble de validation, et on prend la plus grande précision. "
   ]
  },
  {
   "cell_type": "code",
   "execution_count": 76,
   "metadata": {},
   "outputs": [],
   "source": [
    "def test_params(step_sizes):\n",
    "\tfor i in range(len(step_sizes)):\n",
    "\t\tW = np.zeros((d,n_classes))\n",
    "\t\tb = np.zeros(n_classes)\n",
    "\t\tlr = LogisticRegression(W,b)\n",
    "\t\tlr.train(train_set, train_y, step_sizes[i], 30)\n",
    "\t\tpred = lr.predict(validation_set)\n",
    "\t\taccuracies[i] = sum([int(v)==int(p) for v,p in zip(validation_y,pred)])/len(pred)\n",
    "\n",
    "\treturn step_sizes[np.argmax(accuracies)], np.max(accuracies)"
   ]
  },
  {
   "cell_type": "code",
   "execution_count": 77,
   "metadata": {},
   "outputs": [
    {
     "data": {
      "text/plain": [
       "(0.0825, 0.0114)"
      ]
     },
     "execution_count": 77,
     "metadata": {},
     "output_type": "execute_result"
    }
   ],
   "source": [
    "test_params(step_sizes)"
   ]
  },
  {
   "cell_type": "markdown",
   "metadata": {},
   "source": [
    "## VI. Model final"
   ]
  },
  {
   "cell_type": "markdown",
   "metadata": {},
   "source": [
    "Initialisation des parametres aléatoirement pour optimiser le gradient"
   ]
  },
  {
   "cell_type": "code",
   "execution_count": 18,
   "metadata": {},
   "outputs": [],
   "source": [
    "W = np.random.rand(d,n_classes)\n",
    "b = np.random.rand(1,n_classes)\n",
    "model = LogisticRegression(W,b)"
   ]
  },
  {
   "cell_type": "code",
   "execution_count": 19,
   "metadata": {},
   "outputs": [
    {
     "data": {
      "text/plain": [
       "array([[0.65, 1.  , 0.52, ..., 0.8 , 0.2 , 0.81],\n",
       "       [0.14, 0.68, 0.06, ..., 0.77, 0.26, 0.05],\n",
       "       [0.86, 0.26, 0.4 , ..., 0.59, 0.19, 0.43],\n",
       "       ...,\n",
       "       [0.46, 0.74, 0.84, ..., 0.48, 0.45, 0.7 ],\n",
       "       [0.22, 0.87, 0.72, ..., 0.59, 0.56, 0.22],\n",
       "       [0.91, 0.86, 0.7 , ..., 0.  , 0.62, 0.99]])"
      ]
     },
     "execution_count": 19,
     "metadata": {},
     "output_type": "execute_result"
    }
   ],
   "source": [
    "W"
   ]
  },
  {
   "cell_type": "code",
   "execution_count": 93,
   "metadata": {},
   "outputs": [],
   "source": [
    "cost, errors = model.train(X_train,y_train,0.0825,500)"
   ]
  },
  {
   "cell_type": "code",
   "execution_count": 94,
   "metadata": {},
   "outputs": [
    {
     "data": {
      "text/plain": [
       "Text(0, 0.5, 'Cost')"
      ]
     },
     "execution_count": 94,
     "metadata": {},
     "output_type": "execute_result"
    },
    {
     "data": {
      "image/png": "[encoded data removed]",
      "text/plain": [
       "<Figure size 640x480 with 1 Axes>"
      ]
     },
     "metadata": {},
     "output_type": "display_data"
    }
   ],
   "source": [
    "plt.plot(list(range(len(cost))),cost)\n",
    "plt.title('Evolution of the cost by iteration')\n",
    "plt.xlabel('Iteration')\n",
    "plt.ylabel('Cost')"
   ]
  },
  {
   "cell_type": "code",
   "execution_count": 95,
   "metadata": {},
   "outputs": [
    {
     "data": {
      "text/plain": [
       "Text(0, 0.5, 'Error')"
      ]
     },
     "execution_count": 95,
     "metadata": {},
     "output_type": "execute_result"
    },
    {
     "data": {
      "image/png": "[encoded data removed]",
      "text/plain": [
       "<Figure size 640x480 with 1 Axes>"
      ]
     },
     "metadata": {},
     "output_type": "display_data"
    }
   ],
   "source": [
    "plt.plot(list(range(len(errors))),errors)\n",
    "plt.title('Evolution of the errors by iteration')\n",
    "plt.xlabel('Iteration')\n",
    "plt.ylabel('Error')"
   ]
  },
  {
   "cell_type": "code",
   "execution_count": 39,
   "metadata": {},
   "outputs": [],
   "source": [
    "pred_tests = model.predict(X_test)"
   ]
  },
  {
   "cell_type": "markdown",
   "metadata": {},
   "source": [
    "## VII. Générer le csv final"
   ]
  },
  {
   "cell_type": "code",
   "execution_count": null,
   "metadata": {},
   "outputs": [],
   "source": [
    "import csv \n",
    "    \n",
    "# field names \n",
    "fields = ['Index', 'Class'] \n",
    "    \n",
    "# data rows of csv file \n",
    "rows = [ [i ,pred_tests[i] ] for i in range(len(pred_tests)) ] \n",
    "    \n",
    "# name of csv file \n",
    "filename = \"submission.csv\"\n",
    "    \n",
    "# writing to csv file \n",
    "with open(filename, 'w') as csvfile: \n",
    "    # creating a csv writer object \n",
    "    csvwriter = csv.writer(csvfile) \n",
    "        \n",
    "    # writing the fields \n",
    "    csvwriter.writerow(fields) \n",
    "        \n",
    "    # writing the data rows \n",
    "    csvwriter.writerows(rows)"
   ]
  }
 ],
 "metadata": {
  "kernelspec": {
   "display_name": "Python 3.10.7 64-bit",
   "language": "python",
   "name": "python3"
  },
  "language_info": {
   "codemirror_mode": {
    "name": "ipython",
    "version": 3
   },
   "file_extension": ".py",
   "mimetype": "text/x-python",
   "name": "python",
   "nbconvert_exporter": "python",
   "pygments_lexer": "ipython3",
   "version": "3.10.7"
  },
  "orig_nbformat": 4,
  "vscode": {
   "interpreter": {
    "hash": "aee8b7b246df8f9039afb4144a1f6fd8d2ca17a180786b69acc140d282b71a49"
   }
  }
 },
 "nbformat": 4,
 "nbformat_minor": 2
}
